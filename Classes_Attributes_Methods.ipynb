{
 "cells": [
  {
   "cell_type": "code",
   "execution_count": 2,
   "id": "8f2a4d5d",
   "metadata": {},
   "outputs": [
    {
     "name": "stdout",
     "output_type": "stream",
     "text": [
      "314.0\n",
      "10\n"
     ]
    }
   ],
   "source": [
    "# OOP in python\n",
    "class Circle(object):\n",
    "    pi = 3.14\n",
    "    \n",
    "    def __init__(self, radius):\n",
    "        self.radius = radius\n",
    "        \n",
    "    def area(self):\n",
    "        return self.radius * self.radius * Circle.pi\n",
    "    \n",
    "    def setRadius(self, radius):\n",
    "        self.radius = radius\n",
    "    \n",
    "    def getRadius(self):\n",
    "        return self.radius\n",
    "    \n",
    "\n",
    "c = Circle(10)\n",
    "print(c.area())\n",
    "print(c.getRadius())\n"
   ]
  },
  {
   "cell_type": "code",
   "execution_count": 7,
   "id": "62d99be3",
   "metadata": {},
   "outputs": [
    {
     "name": "stdout",
     "output_type": "stream",
     "text": [
      "3.0\n"
     ]
    }
   ],
   "source": [
    "# Mini Challenage\n",
    "# Write a function square root having default value of input = 9 and find square root of the same\n",
    "import math\n",
    "class SquareRoot(object):\n",
    "    \n",
    "    def __init__(self, num=9):\n",
    "        self.num = num\n",
    "    \n",
    "    def getSquareRoot(self):\n",
    "        return math.sqrt(self.num)\n",
    "    \n",
    "sq = SquareRoot()\n",
    "print(sq.getSquareRoot())"
   ]
  },
  {
   "cell_type": "code",
   "execution_count": 10,
   "id": "cb8c8508",
   "metadata": {},
   "outputs": [
    {
     "name": "stdout",
     "output_type": "stream",
     "text": [
      "(30, 200)\n"
     ]
    }
   ],
   "source": [
    "# Mini Challenge\n",
    "# write function function_tuple that takes 2 numbers and return sum and product of these numbers\n",
    "\n",
    "class SumProduct:\n",
    "    \n",
    "    def __init__(self, a, b):\n",
    "        self.a = a\n",
    "        self.b = b\n",
    "        \n",
    "    def function_tuple(self):\n",
    "        l = list()\n",
    "        l.append(self.a + self.b)\n",
    "        l.append(self.a * self.b)\n",
    "        final_tuple = tuple(l)\n",
    "        return final_tuple\n",
    "\n",
    "\n",
    "d = SumProduct(10,20)\n",
    "print(d.function_tuple())\n",
    "        \n"
   ]
  },
  {
   "cell_type": "code",
   "execution_count": null,
   "id": "4e7dd93f",
   "metadata": {},
   "outputs": [],
   "source": []
  }
 ],
 "metadata": {
  "kernelspec": {
   "display_name": "Python 3 (ipykernel)",
   "language": "python",
   "name": "python3"
  },
  "language_info": {
   "codemirror_mode": {
    "name": "ipython",
    "version": 3
   },
   "file_extension": ".py",
   "mimetype": "text/x-python",
   "name": "python",
   "nbconvert_exporter": "python",
   "pygments_lexer": "ipython3",
   "version": "3.10.9"
  }
 },
 "nbformat": 4,
 "nbformat_minor": 5
}
