{
 "cells": [
  {
   "cell_type": "code",
   "execution_count": 3,
   "id": "5d8f4012",
   "metadata": {},
   "outputs": [],
   "source": [
    "# List items changable, allows duplicates, allows to store different types of data\n",
    "mylist = [2,3,5.6,9.6,\"Vinay Tekkur\",'A','B']"
   ]
  },
  {
   "cell_type": "code",
   "execution_count": 5,
   "id": "ce289db8",
   "metadata": {},
   "outputs": [
    {
     "data": {
      "text/plain": [
       "3"
      ]
     },
     "execution_count": 5,
     "metadata": {},
     "output_type": "execute_result"
    }
   ],
   "source": [
    "mylist[1]"
   ]
  },
  {
   "cell_type": "code",
   "execution_count": 6,
   "id": "49f79d86",
   "metadata": {},
   "outputs": [
    {
     "data": {
      "text/plain": [
       "'Vinay Tekkur'"
      ]
     },
     "execution_count": 6,
     "metadata": {},
     "output_type": "execute_result"
    }
   ],
   "source": [
    "mylist[4]"
   ]
  },
  {
   "cell_type": "code",
   "execution_count": 7,
   "id": "11fc0751",
   "metadata": {},
   "outputs": [],
   "source": [
    "# Adding item to list -  append function\n",
    "# it will add new item at end of the list\n",
    "mylist.append(\"Shree Ram\")"
   ]
  },
  {
   "cell_type": "code",
   "execution_count": 8,
   "id": "c802a6fc",
   "metadata": {},
   "outputs": [
    {
     "data": {
      "text/plain": [
       "[2, 3, 5.6, 9.6, 'Vinay Tekkur', 'A', 'B', 'Shree Ram']"
      ]
     },
     "execution_count": 8,
     "metadata": {},
     "output_type": "execute_result"
    }
   ],
   "source": [
    "mylist"
   ]
  },
  {
   "cell_type": "code",
   "execution_count": 11,
   "id": "73396cd4",
   "metadata": {},
   "outputs": [],
   "source": [
    "# append entire list\n",
    "l = [4,\"Jai Hanuman\",\"Reetu\"]\n",
    "mylist.append(l)"
   ]
  },
  {
   "cell_type": "code",
   "execution_count": 12,
   "id": "4f0fd072",
   "metadata": {},
   "outputs": [
    {
     "data": {
      "text/plain": [
       "[2,\n",
       " 3,\n",
       " 5.6,\n",
       " 9.6,\n",
       " 'Vinay Tekkur',\n",
       " 'A',\n",
       " 'B',\n",
       " 'Shree Ram',\n",
       " [4, 'Jai Hanuman', 'Reetu']]"
      ]
     },
     "execution_count": 12,
     "metadata": {},
     "output_type": "execute_result"
    }
   ],
   "source": [
    "mylist"
   ]
  },
  {
   "cell_type": "code",
   "execution_count": 14,
   "id": "79461b4b",
   "metadata": {},
   "outputs": [],
   "source": [
    "# extend function - extends list \n",
    "o = ['Vijay','Sushma']\n",
    "mylist.extend(o)"
   ]
  },
  {
   "cell_type": "code",
   "execution_count": 15,
   "id": "61ac0f1e",
   "metadata": {},
   "outputs": [
    {
     "data": {
      "text/plain": [
       "[2,\n",
       " 3,\n",
       " 5.6,\n",
       " 9.6,\n",
       " 'Vinay Tekkur',\n",
       " 'A',\n",
       " 'B',\n",
       " 'Shree Ram',\n",
       " [4, 'Jai Hanuman', 'Reetu'],\n",
       " 'Vijay',\n",
       " 'Sushma']"
      ]
     },
     "execution_count": 15,
     "metadata": {},
     "output_type": "execute_result"
    }
   ],
   "source": [
    "mylist"
   ]
  },
  {
   "cell_type": "code",
   "execution_count": 16,
   "id": "2e5d62dd",
   "metadata": {},
   "outputs": [],
   "source": [
    "# insert item on index you need\n",
    "mylist.insert(0,\"Tekkur Family\")"
   ]
  },
  {
   "cell_type": "code",
   "execution_count": 17,
   "id": "926d625d",
   "metadata": {},
   "outputs": [
    {
     "data": {
      "text/plain": [
       "['Tekkur Family',\n",
       " 2,\n",
       " 3,\n",
       " 5.6,\n",
       " 9.6,\n",
       " 'Vinay Tekkur',\n",
       " 'A',\n",
       " 'B',\n",
       " 'Shree Ram',\n",
       " [4, 'Jai Hanuman', 'Reetu'],\n",
       " 'Vijay',\n",
       " 'Sushma']"
      ]
     },
     "execution_count": 17,
     "metadata": {},
     "output_type": "execute_result"
    }
   ],
   "source": [
    "mylist"
   ]
  },
  {
   "cell_type": "code",
   "execution_count": 19,
   "id": "69a52428",
   "metadata": {},
   "outputs": [
    {
     "data": {
      "text/plain": [
       "12"
      ]
     },
     "execution_count": 19,
     "metadata": {},
     "output_type": "execute_result"
    }
   ],
   "source": [
    "# get length of list\n",
    "len(mylist)"
   ]
  },
  {
   "cell_type": "code",
   "execution_count": 26,
   "id": "c214b7a0",
   "metadata": {},
   "outputs": [
    {
     "name": "stdout",
     "output_type": "stream",
     "text": [
      "Tekkur Family\n",
      "[3, 5.6, 9.6]\n",
      "['B', 'Shree Ram', [4, 'Jai Hanuman', 'Reetu'], 'Vijay']\n"
     ]
    }
   ],
   "source": [
    "# list Slicing\n",
    "# starts for 0\n",
    "print(mylist[0])\n",
    "print(mylist[2:5])\n",
    "print(mylist[-5:-1]) # except last item"
   ]
  },
  {
   "cell_type": "code",
   "execution_count": 27,
   "id": "b3e043bd",
   "metadata": {},
   "outputs": [
    {
     "data": {
      "text/plain": [
       "['Tekkur Family',\n",
       " 2,\n",
       " 3,\n",
       " 5.6,\n",
       " 9.6,\n",
       " 'Vinay Tekkur',\n",
       " 'A',\n",
       " 'B',\n",
       " 'Shree Ram',\n",
       " [4, 'Jai Hanuman', 'Reetu'],\n",
       " 'Vijay',\n",
       " 'Sushma']"
      ]
     },
     "execution_count": 27,
     "metadata": {},
     "output_type": "execute_result"
    }
   ],
   "source": [
    "# list also supports step\n",
    "mylist[0:12:1]"
   ]
  },
  {
   "cell_type": "code",
   "execution_count": 28,
   "id": "f7aa5ec3",
   "metadata": {},
   "outputs": [
    {
     "data": {
      "text/plain": [
       "['Tekkur Family', 3, 9.6, 'A', 'Shree Ram', 'Vijay']"
      ]
     },
     "execution_count": 28,
     "metadata": {},
     "output_type": "execute_result"
    }
   ],
   "source": [
    "mylist[0:12:2]"
   ]
  },
  {
   "cell_type": "code",
   "execution_count": 29,
   "id": "0a7a117e",
   "metadata": {},
   "outputs": [
    {
     "data": {
      "text/plain": [
       "['Tekkur Family', 5.6, 'A', [4, 'Jai Hanuman', 'Reetu']]"
      ]
     },
     "execution_count": 29,
     "metadata": {},
     "output_type": "execute_result"
    }
   ],
   "source": [
    "mylist[0:12:3]"
   ]
  },
  {
   "cell_type": "code",
   "execution_count": 30,
   "id": "1982b915",
   "metadata": {},
   "outputs": [
    {
     "data": {
      "text/plain": [
       "['Tekkur Family', 9.6, 'Shree Ram']"
      ]
     },
     "execution_count": 30,
     "metadata": {},
     "output_type": "execute_result"
    }
   ],
   "source": [
    "mylist[0:12:4]"
   ]
  },
  {
   "cell_type": "code",
   "execution_count": null,
   "id": "2f0eda92",
   "metadata": {},
   "outputs": [],
   "source": []
  }
 ],
 "metadata": {
  "kernelspec": {
   "display_name": "Python 3 (ipykernel)",
   "language": "python",
   "name": "python3"
  },
  "language_info": {
   "codemirror_mode": {
    "name": "ipython",
    "version": 3
   },
   "file_extension": ".py",
   "mimetype": "text/x-python",
   "name": "python",
   "nbconvert_exporter": "python",
   "pygments_lexer": "ipython3",
   "version": "3.10.9"
  }
 },
 "nbformat": 4,
 "nbformat_minor": 5
}
