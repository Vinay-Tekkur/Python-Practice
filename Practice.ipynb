{
 "cells": [
  {
   "cell_type": "code",
   "execution_count": 1,
   "id": "c7a5201e",
   "metadata": {},
   "outputs": [],
   "source": [
    "import math"
   ]
  },
  {
   "cell_type": "code",
   "execution_count": 2,
   "id": "e65db684",
   "metadata": {},
   "outputs": [
    {
     "data": {
      "text/plain": [
       "4.0"
      ]
     },
     "execution_count": 2,
     "metadata": {},
     "output_type": "execute_result"
    }
   ],
   "source": [
    "math.pow(2,2)"
   ]
  },
  {
   "cell_type": "code",
   "execution_count": 3,
   "id": "ec478e03",
   "metadata": {},
   "outputs": [
    {
     "name": "stdout",
     "output_type": "stream",
     "text": [
      "Hello Vinay\n",
      "Hello Vijay\n",
      "Hello Sheela\n",
      "Hello Gajanan\n",
      "Hello Sushma\n"
     ]
    }
   ],
   "source": [
    "# List comprehension\n",
    "names = [\"Vinay\",\"Vijay\",\"Sheela\",\"Gajanan\",\"Sushma\"]\n",
    "for name in names:\n",
    "    print(\"Hello \" + name)"
   ]
  },
  {
   "cell_type": "code",
   "execution_count": 4,
   "id": "37522ffe",
   "metadata": {},
   "outputs": [],
   "source": [
    "new_names_list = []\n",
    "for name in names:\n",
    "    new_names_list.append(\"Hello \" + name)\n",
    "new_names_list"
   ]
  },
  {
   "cell_type": "code",
   "execution_count": 5,
   "id": "b8c9caad",
   "metadata": {},
   "outputs": [
    {
     "data": {
      "text/plain": [
       "['Hello Vinay', 'Hello Vijay', 'Hello Sheela', 'Hello Gajanan', 'Hello Sushma']"
      ]
     },
     "execution_count": 5,
     "metadata": {},
     "output_type": "execute_result"
    }
   ],
   "source": [
    "new_names_list"
   ]
  },
  {
   "cell_type": "code",
   "execution_count": 7,
   "id": "2235670e",
   "metadata": {},
   "outputs": [],
   "source": [
    "# print even numbers using list comprehension\n",
    "numbers = [1,2,3,4,5,6,7,8,9,10,11,22]\n",
    "even_numbers = [num for num in numbers if num % 2 == 0]"
   ]
  },
  {
   "cell_type": "code",
   "execution_count": 8,
   "id": "312f5ee7",
   "metadata": {},
   "outputs": [
    {
     "data": {
      "text/plain": [
       "[2, 4, 6, 8, 10, 22]"
      ]
     },
     "execution_count": 8,
     "metadata": {},
     "output_type": "execute_result"
    }
   ],
   "source": [
    "even_numbers"
   ]
  },
  {
   "cell_type": "code",
   "execution_count": 11,
   "id": "571fe935",
   "metadata": {},
   "outputs": [
    {
     "data": {
      "text/plain": [
       "[(1, 1), (3, 9), (5, 25), (7, 49), (9, 81), (11, 121)]"
      ]
     },
     "execution_count": 11,
     "metadata": {},
     "output_type": "execute_result"
    }
   ],
   "source": [
    "# print odd squares\n",
    "odd_square_tuples = [(num, num * num) for num in numbers if num % 2 == 1]\n",
    "odd_square_tuples"
   ]
  },
  {
   "cell_type": "code",
   "execution_count": 18,
   "id": "06e7b747",
   "metadata": {},
   "outputs": [
    {
     "name": "stdout",
     "output_type": "stream",
     "text": [
      "Exception occured\n"
     ]
    }
   ],
   "source": [
    "# Exception handling\n",
    "try:\n",
    "    1 / 0\n",
    "except:\n",
    "    print(\"Exception occured\")"
   ]
  },
  {
   "cell_type": "code",
   "execution_count": 19,
   "id": "f8d0cdb2",
   "metadata": {},
   "outputs": [
    {
     "ename": "KeyError",
     "evalue": "'o'",
     "output_type": "error",
     "traceback": [
      "\u001b[1;31m---------------------------------------------------------------------------\u001b[0m",
      "\u001b[1;31mKeyError\u001b[0m                                  Traceback (most recent call last)",
      "Cell \u001b[1;32mIn[19], line 2\u001b[0m\n\u001b[0;32m      1\u001b[0m my_dic \u001b[38;5;241m=\u001b[39m{\u001b[38;5;124m\"\u001b[39m\u001b[38;5;124ma\u001b[39m\u001b[38;5;124m\"\u001b[39m:\u001b[38;5;241m1\u001b[39m, \u001b[38;5;124m\"\u001b[39m\u001b[38;5;124mb\u001b[39m\u001b[38;5;124m\"\u001b[39m:\u001b[38;5;241m2\u001b[39m, \u001b[38;5;124m\"\u001b[39m\u001b[38;5;124mc\u001b[39m\u001b[38;5;124m\"\u001b[39m:\u001b[38;5;241m3\u001b[39m}\n\u001b[1;32m----> 2\u001b[0m \u001b[43mmy_dic\u001b[49m\u001b[43m[\u001b[49m\u001b[38;5;124;43m\"\u001b[39;49m\u001b[38;5;124;43mo\u001b[39;49m\u001b[38;5;124;43m\"\u001b[39;49m\u001b[43m]\u001b[49m\n",
      "\u001b[1;31mKeyError\u001b[0m: 'o'"
     ]
    }
   ],
   "source": [
    "my_dic ={\"a\":1, \"b\":2, \"c\":3}\n",
    "my_dic[\"o\"]"
   ]
  },
  {
   "cell_type": "code",
   "execution_count": 20,
   "id": "1c01b8a8",
   "metadata": {},
   "outputs": [],
   "source": [
    "# file operations in python\n",
    "# write file\n",
    "with open(\"myfile.txt\",'w') as f:\n",
    "    f.write(\"This is my first line in the file\\n\\n\")\n",
    "    f.write(\"This is second line in the file\\n\\n\")\n",
    "    f.write(\"This is third line in the file\")\n",
    "    "
   ]
  },
  {
   "cell_type": "code",
   "execution_count": 22,
   "id": "bd4e84a9",
   "metadata": {},
   "outputs": [],
   "source": [
    "# append file\n",
    "with open(\"myfile.txt\",'a') as f:\n",
    "    f.write(\"This is my fifth line\\n\")\n",
    "    f.write(\"This is my sixth line\\n\")"
   ]
  },
  {
   "cell_type": "code",
   "execution_count": 24,
   "id": "fcfd88ed",
   "metadata": {},
   "outputs": [
    {
     "name": "stdout",
     "output_type": "stream",
     "text": [
      "This is my first line in the file\n",
      "\n",
      "\n",
      "\n",
      "This is second line in the file\n",
      "\n",
      "\n",
      "\n",
      "This is third line in the fileThis is my fifth line\n",
      "\n",
      "This is my sixth line\n",
      "\n"
     ]
    }
   ],
   "source": [
    "# read file\n",
    "with open(\"myfile.txt\",'r') as f:\n",
    "    for line in f:\n",
    "        print(line)"
   ]
  },
  {
   "cell_type": "code",
   "execution_count": null,
   "id": "121d9266",
   "metadata": {},
   "outputs": [],
   "source": []
  }
 ],
 "metadata": {
  "kernelspec": {
   "display_name": "Python 3 (ipykernel)",
   "language": "python",
   "name": "python3"
  },
  "language_info": {
   "codemirror_mode": {
    "name": "ipython",
    "version": 3
   },
   "file_extension": ".py",
   "mimetype": "text/x-python",
   "name": "python",
   "nbconvert_exporter": "python",
   "pygments_lexer": "ipython3",
   "version": "3.10.9"
  }
 },
 "nbformat": 4,
 "nbformat_minor": 5
}
