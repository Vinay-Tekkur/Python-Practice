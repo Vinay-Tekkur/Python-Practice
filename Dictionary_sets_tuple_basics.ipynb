{
 "cells": [
  {
   "cell_type": "code",
   "execution_count": 1,
   "id": "4ae90682",
   "metadata": {},
   "outputs": [],
   "source": [
    "# Dictionary is non-ordered, key needs to be unique, mutable (able to change items)\n",
    "my_dict = {\"name\":\"Vinay\", \"Surname\":\"Tekkur\", \"age\":27, \"DOB\":\"7th June 1995\",\"Hobbies\":[\"Playing cricket\",\"Read books\",\"Swimming\"]}"
   ]
  },
  {
   "cell_type": "code",
   "execution_count": 2,
   "id": "05037dfa",
   "metadata": {},
   "outputs": [
    {
     "data": {
      "text/plain": [
       "{'name': 'Vinay',\n",
       " 'Surname': 'Tekkur',\n",
       " 'age': 27,\n",
       " 'DOB': '7th June 1995',\n",
       " 'Hobbies': ['Playing cricket', 'Read books', 'Swimming']}"
      ]
     },
     "execution_count": 2,
     "metadata": {},
     "output_type": "execute_result"
    }
   ],
   "source": [
    "my_dict"
   ]
  },
  {
   "cell_type": "code",
   "execution_count": 3,
   "id": "42971a32",
   "metadata": {},
   "outputs": [
    {
     "data": {
      "text/plain": [
       "'Vinay'"
      ]
     },
     "execution_count": 3,
     "metadata": {},
     "output_type": "execute_result"
    }
   ],
   "source": [
    "# Access based on key\n",
    "my_dict[\"name\"]"
   ]
  },
  {
   "cell_type": "code",
   "execution_count": 4,
   "id": "91cba6ab",
   "metadata": {},
   "outputs": [],
   "source": [
    "# update value \n",
    "my_dict[\"name\"] = \"Vinay Tekkur\""
   ]
  },
  {
   "cell_type": "code",
   "execution_count": 5,
   "id": "df3f9a65",
   "metadata": {},
   "outputs": [
    {
     "data": {
      "text/plain": [
       "{'name': 'Vinay Tekkur',\n",
       " 'Surname': 'Tekkur',\n",
       " 'age': 27,\n",
       " 'DOB': '7th June 1995',\n",
       " 'Hobbies': ['Playing cricket', 'Read books', 'Swimming']}"
      ]
     },
     "execution_count": 5,
     "metadata": {},
     "output_type": "execute_result"
    }
   ],
   "source": [
    "my_dict"
   ]
  },
  {
   "cell_type": "code",
   "execution_count": 7,
   "id": "c661c348",
   "metadata": {},
   "outputs": [],
   "source": [
    "# ---------------------------------------------------------------------"
   ]
  },
  {
   "cell_type": "code",
   "execution_count": 8,
   "id": "313401e6",
   "metadata": {},
   "outputs": [],
   "source": [
    "# Sets - mutable, removed duplicates, non-ordered\n",
    "l=[1,1,1,1,1,2,2,2,2,5,5,5,5]\n",
    "x=set(l)"
   ]
  },
  {
   "cell_type": "code",
   "execution_count": 9,
   "id": "db2bac1c",
   "metadata": {},
   "outputs": [
    {
     "data": {
      "text/plain": [
       "{1, 2, 5}"
      ]
     },
     "execution_count": 9,
     "metadata": {},
     "output_type": "execute_result"
    }
   ],
   "source": [
    "x"
   ]
  },
  {
   "cell_type": "code",
   "execution_count": 10,
   "id": "23ec4b58",
   "metadata": {},
   "outputs": [],
   "source": [
    "x.add(8)"
   ]
  },
  {
   "cell_type": "code",
   "execution_count": 11,
   "id": "c8fbfeff",
   "metadata": {},
   "outputs": [
    {
     "data": {
      "text/plain": [
       "{1, 2, 5, 8}"
      ]
     },
     "execution_count": 11,
     "metadata": {},
     "output_type": "execute_result"
    }
   ],
   "source": [
    "x"
   ]
  },
  {
   "cell_type": "code",
   "execution_count": 12,
   "id": "bb0907e8",
   "metadata": {},
   "outputs": [],
   "source": [
    "# ---------------------------------------------------------------------"
   ]
  },
  {
   "cell_type": "code",
   "execution_count": 13,
   "id": "89b5a9d4",
   "metadata": {},
   "outputs": [],
   "source": [
    "# Tuple - ordered, Immutable can't add or change, allows diplicates\n",
    "t = (\"Vinay\",\"Vinay\")"
   ]
  },
  {
   "cell_type": "code",
   "execution_count": 16,
   "id": "967e96e4",
   "metadata": {},
   "outputs": [
    {
     "data": {
      "text/plain": [
       "tuple"
      ]
     },
     "execution_count": 16,
     "metadata": {},
     "output_type": "execute_result"
    }
   ],
   "source": [
    "type(t)"
   ]
  },
  {
   "cell_type": "code",
   "execution_count": 17,
   "id": "05cad48e",
   "metadata": {},
   "outputs": [],
   "source": [
    "a=(\"apple\",\"banana\",\"fire\",85,9.6)"
   ]
  },
  {
   "cell_type": "code",
   "execution_count": 18,
   "id": "1e3c5ce1",
   "metadata": {},
   "outputs": [
    {
     "data": {
      "text/plain": [
       "('apple', 'banana', 'fire', 85, 9.6)"
      ]
     },
     "execution_count": 18,
     "metadata": {},
     "output_type": "execute_result"
    }
   ],
   "source": [
    "a"
   ]
  },
  {
   "cell_type": "code",
   "execution_count": null,
   "id": "ef9c379d",
   "metadata": {},
   "outputs": [],
   "source": []
  }
 ],
 "metadata": {
  "kernelspec": {
   "display_name": "Python 3 (ipykernel)",
   "language": "python",
   "name": "python3"
  },
  "language_info": {
   "codemirror_mode": {
    "name": "ipython",
    "version": 3
   },
   "file_extension": ".py",
   "mimetype": "text/x-python",
   "name": "python",
   "nbconvert_exporter": "python",
   "pygments_lexer": "ipython3",
   "version": "3.10.9"
  }
 },
 "nbformat": 4,
 "nbformat_minor": 5
}
