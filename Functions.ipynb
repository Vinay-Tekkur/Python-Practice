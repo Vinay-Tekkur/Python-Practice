{
 "cells": [
  {
   "cell_type": "code",
   "execution_count": 1,
   "id": "15e4a7b4",
   "metadata": {},
   "outputs": [
    {
     "name": "stdout",
     "output_type": "stream",
     "text": [
      "Vinay\n"
     ]
    }
   ],
   "source": [
    "# functions\n",
    "def print_my_name(name):\n",
    "    print(name)\n",
    "    \n",
    "print_my_name(\"Vinay\")"
   ]
  },
  {
   "cell_type": "code",
   "execution_count": 4,
   "id": "230381a2",
   "metadata": {},
   "outputs": [
    {
     "name": "stdout",
     "output_type": "stream",
     "text": [
      "15\n",
      "10\n",
      "60\n"
     ]
    }
   ],
   "source": [
    "def add_number(x, y=5):\n",
    "    return x + y\n",
    "\n",
    "print(add_number(5,10))\n",
    "print(add_number(5))\n",
    "print(add_number(25,35))"
   ]
  },
  {
   "cell_type": "code",
   "execution_count": 8,
   "id": "aa98ae93",
   "metadata": {},
   "outputs": [
    {
     "name": "stdout",
     "output_type": "stream",
     "text": [
      "0\n",
      "10\n",
      "25\n",
      "20\n",
      "5\n"
     ]
    }
   ],
   "source": [
    "def subtract_number(a=10, b=10):\n",
    "    return a - b\n",
    "\n",
    "print(subtract_number())\n",
    "print(subtract_number(20,10))\n",
    "print(subtract_number(30,5))\n",
    "print(subtract_number(30))\n",
    "print(subtract_number(b=5))"
   ]
  },
  {
   "cell_type": "code",
   "execution_count": 4,
   "id": "edcc7873",
   "metadata": {},
   "outputs": [
    {
     "name": "stdout",
     "output_type": "stream",
     "text": [
      "Please enter 1. Add 2.Subtract 3.Divide 4.Multiply 5.Exit\n",
      "2\n",
      "Enter num110\n",
      "Enter num210\n"
     ]
    }
   ],
   "source": [
    "# implemet calculator\n",
    "def add_numbers(num1, num2):\n",
    "    return num1 + num2\n",
    "\n",
    "def subtract_numbers(num1, num2):\n",
    "    result = 0\n",
    "    if num1 > num2:\n",
    "        result=num1 - num2\n",
    "    else:\n",
    "        result=num2 - num1\n",
    "    return result\n",
    "\n",
    "def multiply_numbers(num1, num2):\n",
    "    return num1 * num2\n",
    "\n",
    "def division_numbers(num1, num2):\n",
    "    try:\n",
    "        return num1 / num2\n",
    "    except ZeroDivisionError:\n",
    "        print(\"Division by zero error occured! please enter valid num\")\n",
    "        return \"Can not divide by Zero!!\"\n",
    "\n",
    "number = input(\"Please enter 1. Add 2.Subtract 3.Divide 4.Multiply 5.Exit\\n\")\n",
    "if number == 1:\n",
    "    num1=int(input(\"Enter num1\"))\n",
    "    num2=int(input(\"Enter num2\"))\n",
    "    print(add_numbers(num1,num2))\n",
    "elif number == 2:\n",
    "    num1=int(input(\"Enter num1\"))\n",
    "    num2=int(input(\"Enter num2\"))\n",
    "    print(subtract_numbers(num1,num2))\n",
    "elif number == 3:\n",
    "    num1=int(input(\"Enter num1\"))\n",
    "    num2=int(input(\"Enter num2\"))\n",
    "    print(division_numbers(num1,num2))\n",
    "else:\n",
    "    num1=int(input(\"Enter num1\"))\n",
    "    num2=int(input(\"Enter num2\"))\n",
    "    multiply_numbers(num1,num2)\n",
    "\n",
    "        "
   ]
  },
  {
   "cell_type": "code",
   "execution_count": null,
   "id": "5f3b93da",
   "metadata": {},
   "outputs": [],
   "source": []
  }
 ],
 "metadata": {
  "kernelspec": {
   "display_name": "Python 3 (ipykernel)",
   "language": "python",
   "name": "python3"
  },
  "language_info": {
   "codemirror_mode": {
    "name": "ipython",
    "version": 3
   },
   "file_extension": ".py",
   "mimetype": "text/x-python",
   "name": "python",
   "nbconvert_exporter": "python",
   "pygments_lexer": "ipython3",
   "version": "3.10.9"
  }
 },
 "nbformat": 4,
 "nbformat_minor": 5
}
